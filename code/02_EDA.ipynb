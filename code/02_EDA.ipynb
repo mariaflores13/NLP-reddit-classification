{
 "cells": [
  {
   "cell_type": "markdown",
   "metadata": {},
   "source": [
    "### EDA"
   ]
  },
  {
   "cell_type": "code",
   "execution_count": 5,
   "metadata": {},
   "outputs": [],
   "source": [
    "import pandas as pd \n",
    "import numpy as np\n",
    "import seaborn as sns\n",
    "import matplotlib.pyplot as plt\n",
    "import pickle\n",
    "import regex as re\n",
    "\n",
    "sns.set_style(style = 'whitegrid')\n",
    "%config InlineBackend.figure_format = 'retina'\n",
    "%matplotlib inline"
   ]
  },
  {
   "cell_type": "markdown",
   "metadata": {},
   "source": [
    "### Import Data"
   ]
  },
  {
   "cell_type": "code",
   "execution_count": 6,
   "metadata": {},
   "outputs": [],
   "source": [
    "df = pickle.load(open(\"../assets/combined_subreddits.pkl\", \"rb\"))"
   ]
  },
  {
   "cell_type": "code",
   "execution_count": 7,
   "metadata": {},
   "outputs": [
    {
     "data": {
      "text/html": [
       "<div>\n",
       "<style scoped>\n",
       "    .dataframe tbody tr th:only-of-type {\n",
       "        vertical-align: middle;\n",
       "    }\n",
       "\n",
       "    .dataframe tbody tr th {\n",
       "        vertical-align: top;\n",
       "    }\n",
       "\n",
       "    .dataframe thead th {\n",
       "        text-align: right;\n",
       "    }\n",
       "</style>\n",
       "<table border=\"1\" class=\"dataframe\">\n",
       "  <thead>\n",
       "    <tr style=\"text-align: right;\">\n",
       "      <th></th>\n",
       "      <th>title</th>\n",
       "      <th>selftext</th>\n",
       "      <th>title_self_text</th>\n",
       "      <th>created_utc</th>\n",
       "      <th>subreddit</th>\n",
       "    </tr>\n",
       "  </thead>\n",
       "  <tbody>\n",
       "    <tr>\n",
       "      <td>0</td>\n",
       "      <td>Late Night Laundry</td>\n",
       "      <td>[removed]</td>\n",
       "      <td>Late Night Laundry[removed]</td>\n",
       "      <td>1580239970</td>\n",
       "      <td>nosleep</td>\n",
       "    </tr>\n",
       "    <tr>\n",
       "      <td>1</td>\n",
       "      <td>Why Did The Moon Disappear? [Part One]</td>\n",
       "      <td>[removed]</td>\n",
       "      <td>Why Did The Moon Disappear? [Part One][removed]</td>\n",
       "      <td>1580239486</td>\n",
       "      <td>nosleep</td>\n",
       "    </tr>\n",
       "    <tr>\n",
       "      <td>2</td>\n",
       "      <td>You don't die of old age (Part 1)</td>\n",
       "      <td>[removed]</td>\n",
       "      <td>You don't die of old age (Part 1)[removed]</td>\n",
       "      <td>1580239395</td>\n",
       "      <td>nosleep</td>\n",
       "    </tr>\n",
       "    <tr>\n",
       "      <td>3</td>\n",
       "      <td>Why Did The Moon Disappear? [True Story] (part...</td>\n",
       "      <td>[removed]</td>\n",
       "      <td>Why Did The Moon Disappear? [True Story] (part...</td>\n",
       "      <td>1580238771</td>\n",
       "      <td>nosleep</td>\n",
       "    </tr>\n",
       "    <tr>\n",
       "      <td>4</td>\n",
       "      <td>The Door To Hell</td>\n",
       "      <td>NaN</td>\n",
       "      <td>NaN</td>\n",
       "      <td>1580237605</td>\n",
       "      <td>nosleep</td>\n",
       "    </tr>\n",
       "  </tbody>\n",
       "</table>\n",
       "</div>"
      ],
      "text/plain": [
       "                                               title   selftext  \\\n",
       "0                                 Late Night Laundry  [removed]   \n",
       "1             Why Did The Moon Disappear? [Part One]  [removed]   \n",
       "2                  You don't die of old age (Part 1)  [removed]   \n",
       "3  Why Did The Moon Disappear? [True Story] (part...  [removed]   \n",
       "4                                   The Door To Hell        NaN   \n",
       "\n",
       "                                     title_self_text  created_utc subreddit  \n",
       "0                        Late Night Laundry[removed]   1580239970   nosleep  \n",
       "1    Why Did The Moon Disappear? [Part One][removed]   1580239486   nosleep  \n",
       "2         You don't die of old age (Part 1)[removed]   1580239395   nosleep  \n",
       "3  Why Did The Moon Disappear? [True Story] (part...   1580238771   nosleep  \n",
       "4                                                NaN   1580237605   nosleep  "
      ]
     },
     "execution_count": 7,
     "metadata": {},
     "output_type": "execute_result"
    }
   ],
   "source": [
    "df.head()"
   ]
  },
  {
   "cell_type": "code",
   "execution_count": 8,
   "metadata": {},
   "outputs": [],
   "source": [
    "df.drop_duplicates(inplace=True)\n",
    "df.reset_index(drop=True, inplace=True)"
   ]
  },
  {
   "cell_type": "code",
   "execution_count": 9,
   "metadata": {},
   "outputs": [],
   "source": [
    "nan_filler = 'DELETE_THIS_PLACEhHOLDER_SUPER_OBScURE-492929435'\n",
    "\n",
    "df.fillna(value = nan_filler, inplace = True)"
   ]
  },
  {
   "cell_type": "code",
   "execution_count": 10,
   "metadata": {},
   "outputs": [
    {
     "data": {
      "text/plain": [
       "0"
      ]
     },
     "execution_count": 10,
     "metadata": {},
     "output_type": "execute_result"
    }
   ],
   "source": [
    "df.isnull().sum().sum()"
   ]
  },
  {
   "cell_type": "markdown",
   "metadata": {},
   "source": [
    "#### Create new column `all_text` that combines `title` and `selftext` columns."
   ]
  },
  {
   "cell_type": "code",
   "execution_count": 11,
   "metadata": {},
   "outputs": [],
   "source": [
    "df['all_text'] = df['title'] + ' ' + df['selftext']"
   ]
  },
  {
   "cell_type": "code",
   "execution_count": 12,
   "metadata": {},
   "outputs": [
    {
     "data": {
      "text/plain": [
       "0"
      ]
     },
     "execution_count": 12,
     "metadata": {},
     "output_type": "execute_result"
    }
   ],
   "source": [
    "df['all_text'] = df['all_text'].str.replace(nan_filler, '')\n",
    "df['all_text'].isnull().sum()"
   ]
  },
  {
   "cell_type": "markdown",
   "metadata": {},
   "source": [
    "#### Create new columns `char_count` and `word_count` to look at distributions."
   ]
  },
  {
   "cell_type": "code",
   "execution_count": 13,
   "metadata": {},
   "outputs": [
    {
     "data": {
      "text/plain": [
       "0         28\n",
       "1         48\n",
       "2         43\n",
       "3         61\n",
       "4         17\n",
       "        ... \n",
       "19993     70\n",
       "19994     48\n",
       "19995    262\n",
       "19996    715\n",
       "19997     36\n",
       "Name: char_count, Length: 19998, dtype: int64"
      ]
     },
     "execution_count": 13,
     "metadata": {},
     "output_type": "execute_result"
    }
   ],
   "source": [
    "df['char_count'] = df['all_text'].map(lambda x: len(x))\n",
    "df['char_count']"
   ]
  },
  {
   "cell_type": "code",
   "execution_count": 14,
   "metadata": {
    "scrolled": true
   },
   "outputs": [
    {
     "data": {
      "text/plain": [
       "0          4\n",
       "1          8\n",
       "2          9\n",
       "3         10\n",
       "4          4\n",
       "        ... \n",
       "19993      9\n",
       "19994      6\n",
       "19995     48\n",
       "19996    135\n",
       "19997      4\n",
       "Name: word_count, Length: 19998, dtype: int64"
      ]
     },
     "execution_count": 14,
     "metadata": {},
     "output_type": "execute_result"
    }
   ],
   "source": [
    "df['word_count'] = df['all_text'].map(lambda x: len(x.split()))\n",
    "df['word_count']"
   ]
  },
  {
   "cell_type": "code",
   "execution_count": 15,
   "metadata": {},
   "outputs": [],
   "source": [
    "# Drop rows whose character count value is less than 10\n",
    "df.drop(df[df['char_count'] < 10].index, inplace=True)"
   ]
  },
  {
   "cell_type": "code",
   "execution_count": 16,
   "metadata": {},
   "outputs": [],
   "source": [
    "# Drop excess columns\n",
    "df.drop(columns=['title', 'selftext', 'title_self_text'], inplace=True)"
   ]
  },
  {
   "cell_type": "code",
   "execution_count": 17,
   "metadata": {},
   "outputs": [
    {
     "data": {
      "text/html": [
       "<div>\n",
       "<style scoped>\n",
       "    .dataframe tbody tr th:only-of-type {\n",
       "        vertical-align: middle;\n",
       "    }\n",
       "\n",
       "    .dataframe tbody tr th {\n",
       "        vertical-align: top;\n",
       "    }\n",
       "\n",
       "    .dataframe thead th {\n",
       "        text-align: right;\n",
       "    }\n",
       "</style>\n",
       "<table border=\"1\" class=\"dataframe\">\n",
       "  <thead>\n",
       "    <tr style=\"text-align: right;\">\n",
       "      <th></th>\n",
       "      <th>created_utc</th>\n",
       "      <th>subreddit</th>\n",
       "      <th>all_text</th>\n",
       "      <th>char_count</th>\n",
       "      <th>word_count</th>\n",
       "    </tr>\n",
       "  </thead>\n",
       "  <tbody>\n",
       "    <tr>\n",
       "      <td>0</td>\n",
       "      <td>1580239970</td>\n",
       "      <td>nosleep</td>\n",
       "      <td>Late Night Laundry [removed]</td>\n",
       "      <td>28</td>\n",
       "      <td>4</td>\n",
       "    </tr>\n",
       "    <tr>\n",
       "      <td>1</td>\n",
       "      <td>1580239486</td>\n",
       "      <td>nosleep</td>\n",
       "      <td>Why Did The Moon Disappear? [Part One] [removed]</td>\n",
       "      <td>48</td>\n",
       "      <td>8</td>\n",
       "    </tr>\n",
       "    <tr>\n",
       "      <td>2</td>\n",
       "      <td>1580239395</td>\n",
       "      <td>nosleep</td>\n",
       "      <td>You don't die of old age (Part 1) [removed]</td>\n",
       "      <td>43</td>\n",
       "      <td>9</td>\n",
       "    </tr>\n",
       "    <tr>\n",
       "      <td>3</td>\n",
       "      <td>1580238771</td>\n",
       "      <td>nosleep</td>\n",
       "      <td>Why Did The Moon Disappear? [True Story] (part...</td>\n",
       "      <td>61</td>\n",
       "      <td>10</td>\n",
       "    </tr>\n",
       "    <tr>\n",
       "      <td>4</td>\n",
       "      <td>1580237605</td>\n",
       "      <td>nosleep</td>\n",
       "      <td>The Door To Hell</td>\n",
       "      <td>17</td>\n",
       "      <td>4</td>\n",
       "    </tr>\n",
       "  </tbody>\n",
       "</table>\n",
       "</div>"
      ],
      "text/plain": [
       "   created_utc subreddit                                           all_text  \\\n",
       "0   1580239970   nosleep                       Late Night Laundry [removed]   \n",
       "1   1580239486   nosleep   Why Did The Moon Disappear? [Part One] [removed]   \n",
       "2   1580239395   nosleep        You don't die of old age (Part 1) [removed]   \n",
       "3   1580238771   nosleep  Why Did The Moon Disappear? [True Story] (part...   \n",
       "4   1580237605   nosleep                                  The Door To Hell    \n",
       "\n",
       "   char_count  word_count  \n",
       "0          28           4  \n",
       "1          48           8  \n",
       "2          43           9  \n",
       "3          61          10  \n",
       "4          17           4  "
      ]
     },
     "execution_count": 17,
     "metadata": {},
     "output_type": "execute_result"
    }
   ],
   "source": [
    "df.head()"
   ]
  },
  {
   "cell_type": "code",
   "execution_count": 18,
   "metadata": {},
   "outputs": [
    {
     "data": {
      "text/plain": [
       "(19798, 5)"
      ]
     },
     "execution_count": 18,
     "metadata": {},
     "output_type": "execute_result"
    }
   ],
   "source": [
    "df.shape"
   ]
  },
  {
   "cell_type": "code",
   "execution_count": 19,
   "metadata": {},
   "outputs": [],
   "source": [
    "# Rearrange order of columns (just a preference)\n",
    "df = df.reindex(columns=['all_text', 'subreddit', 'char_count', 'word_count', 'created_utc'])"
   ]
  },
  {
   "cell_type": "code",
   "execution_count": 20,
   "metadata": {},
   "outputs": [
    {
     "data": {
      "text/html": [
       "<div>\n",
       "<style scoped>\n",
       "    .dataframe tbody tr th:only-of-type {\n",
       "        vertical-align: middle;\n",
       "    }\n",
       "\n",
       "    .dataframe tbody tr th {\n",
       "        vertical-align: top;\n",
       "    }\n",
       "\n",
       "    .dataframe thead th {\n",
       "        text-align: right;\n",
       "    }\n",
       "</style>\n",
       "<table border=\"1\" class=\"dataframe\">\n",
       "  <thead>\n",
       "    <tr style=\"text-align: right;\">\n",
       "      <th></th>\n",
       "      <th>all_text</th>\n",
       "      <th>subreddit</th>\n",
       "      <th>char_count</th>\n",
       "      <th>word_count</th>\n",
       "      <th>created_utc</th>\n",
       "    </tr>\n",
       "  </thead>\n",
       "  <tbody>\n",
       "    <tr>\n",
       "      <td>0</td>\n",
       "      <td>Late Night Laundry [removed]</td>\n",
       "      <td>nosleep</td>\n",
       "      <td>28</td>\n",
       "      <td>4</td>\n",
       "      <td>1580239970</td>\n",
       "    </tr>\n",
       "    <tr>\n",
       "      <td>1</td>\n",
       "      <td>Why Did The Moon Disappear? [Part One] [removed]</td>\n",
       "      <td>nosleep</td>\n",
       "      <td>48</td>\n",
       "      <td>8</td>\n",
       "      <td>1580239486</td>\n",
       "    </tr>\n",
       "    <tr>\n",
       "      <td>2</td>\n",
       "      <td>You don't die of old age (Part 1) [removed]</td>\n",
       "      <td>nosleep</td>\n",
       "      <td>43</td>\n",
       "      <td>9</td>\n",
       "      <td>1580239395</td>\n",
       "    </tr>\n",
       "    <tr>\n",
       "      <td>3</td>\n",
       "      <td>Why Did The Moon Disappear? [True Story] (part...</td>\n",
       "      <td>nosleep</td>\n",
       "      <td>61</td>\n",
       "      <td>10</td>\n",
       "      <td>1580238771</td>\n",
       "    </tr>\n",
       "    <tr>\n",
       "      <td>4</td>\n",
       "      <td>The Door To Hell</td>\n",
       "      <td>nosleep</td>\n",
       "      <td>17</td>\n",
       "      <td>4</td>\n",
       "      <td>1580237605</td>\n",
       "    </tr>\n",
       "  </tbody>\n",
       "</table>\n",
       "</div>"
      ],
      "text/plain": [
       "                                            all_text subreddit  char_count  \\\n",
       "0                       Late Night Laundry [removed]   nosleep          28   \n",
       "1   Why Did The Moon Disappear? [Part One] [removed]   nosleep          48   \n",
       "2        You don't die of old age (Part 1) [removed]   nosleep          43   \n",
       "3  Why Did The Moon Disappear? [True Story] (part...   nosleep          61   \n",
       "4                                  The Door To Hell    nosleep          17   \n",
       "\n",
       "   word_count  created_utc  \n",
       "0           4   1580239970  \n",
       "1           8   1580239486  \n",
       "2           9   1580239395  \n",
       "3          10   1580238771  \n",
       "4           4   1580237605  "
      ]
     },
     "execution_count": 20,
     "metadata": {},
     "output_type": "execute_result"
    }
   ],
   "source": [
    "df.head()"
   ]
  },
  {
   "cell_type": "markdown",
   "metadata": {},
   "source": [
    "#### Assign target (subreddit) values."
   ]
  },
  {
   "cell_type": "code",
   "execution_count": 21,
   "metadata": {},
   "outputs": [
    {
     "data": {
      "text/plain": [
       "nosleep        9991\n",
       "creepypasta    9807\n",
       "Name: subreddit, dtype: int64"
      ]
     },
     "execution_count": 21,
     "metadata": {},
     "output_type": "execute_result"
    }
   ],
   "source": [
    "df['subreddit'].value_counts()"
   ]
  },
  {
   "cell_type": "code",
   "execution_count": 22,
   "metadata": {
    "scrolled": true
   },
   "outputs": [
    {
     "data": {
      "text/plain": [
       "1    9991\n",
       "0    9807\n",
       "Name: subreddit, dtype: int64"
      ]
     },
     "execution_count": 22,
     "metadata": {},
     "output_type": "execute_result"
    }
   ],
   "source": [
    "# Replace subreddit target to 'nosleep':1 and 'creepypasta' :0\n",
    "df['subreddit'] = [1 if i == 'nosleep' else 0 for i in df['subreddit']]\n",
    "df['subreddit'].value_counts()"
   ]
  },
  {
   "cell_type": "markdown",
   "metadata": {},
   "source": [
    "### Quick Distributions"
   ]
  },
  {
   "cell_type": "code",
   "execution_count": 23,
   "metadata": {},
   "outputs": [
    {
     "data": {
      "image/png": "[encoded data removed]",
      "text/plain": [
       "<Figure size 1440x720 with 1 Axes>"
      ]
     },
     "metadata": {
      "image/png": {
       "height": 624,
       "width": 1181
      },
      "needs_background": "light"
     },
     "output_type": "display_data"
    }
   ],
   "source": [
    "plt.figure(figsize=(20,10))\n",
    "plt.hist([df[df['subreddit']==0]['char_count'], \n",
    "          df[df['subreddit']==1]['char_count']],\n",
    "         bins=20, color=['#FF4343', 'black'], ec='k')\n",
    "plt.title('Character Count by Class (Subreddit)', fontsize=30)\n",
    "plt.xlabel('Character Count', fontsize =20)\n",
    "plt.ylabel('Character', fontsize =20)\n",
    "plt.legend(['creepypasta', 'nosleep'], fontsize =20);"
   ]
  },
  {
   "cell_type": "code",
   "execution_count": 24,
   "metadata": {},
   "outputs": [
    {
     "data": {
      "image/png": "[encoded data removed]",
      "text/plain": [
       "<Figure size 1440x720 with 1 Axes>"
      ]
     },
     "metadata": {
      "image/png": {
       "height": 624,
       "width": 1181
      },
      "needs_background": "light"
     },
     "output_type": "display_data"
    }
   ],
   "source": [
    "plt.figure(figsize=(20,10))\n",
    "plt.hist([df[df['subreddit']==0]['word_count'], \n",
    "          df[df['subreddit']==1]['word_count']],\n",
    "         bins=20, color=['#FF4343', 'black'], ec='k')\n",
    "plt.title('Word Count by Subreddit', fontsize=30)\n",
    "plt.xlabel('Word Count', fontsize =20)\n",
    "plt.ylabel('Frequency', fontsize =20)\n",
    "plt.legend(['creepypasta', 'nosleep'], fontsize =20);\n",
    "plt.savefig('../images/word_count.png')"
   ]
  },
  {
   "cell_type": "markdown",
   "metadata": {},
   "source": [
    "### Clean `all_text`:\n",
    "- Remove punctuation\n",
    "- Remove numbers\n",
    "- Remove line breaks\n",
    "- Remove mentions of target subreddits"
   ]
  },
  {
   "cell_type": "code",
   "execution_count": 25,
   "metadata": {},
   "outputs": [],
   "source": [
    "# Reset indices\n",
    "df.reset_index(drop=True, inplace=True)"
   ]
  },
  {
   "cell_type": "code",
   "execution_count": 26,
   "metadata": {},
   "outputs": [],
   "source": [
    "# Remove '[removed]' which occurs when the selftext was removed from the subreddit\n",
    "df['all_text'] = df['all_text'].str.replace('\\[removed\\]', '')"
   ]
  },
  {
   "cell_type": "code",
   "execution_count": 27,
   "metadata": {
    "scrolled": true
   },
   "outputs": [
    {
     "data": {
      "text/plain": [
       "0"
      ]
     },
     "execution_count": 27,
     "metadata": {},
     "output_type": "execute_result"
    }
   ],
   "source": [
    "# Check that '[removed]' was removed\n",
    "df['all_text'].str.contains('\\[removed\\]').sum()"
   ]
  },
  {
   "cell_type": "code",
   "execution_count": 28,
   "metadata": {},
   "outputs": [],
   "source": [
    "# Make all_text column lowercase\n",
    "df['all_text'] = df['all_text'].map(lambda x: str.lower(x))"
   ]
  },
  {
   "cell_type": "code",
   "execution_count": 29,
   "metadata": {},
   "outputs": [],
   "source": [
    "# Remove target subreddit from all_text\n",
    "df['all_text'] = df['all_text'].str.replace('nosleep', '')"
   ]
  },
  {
   "cell_type": "code",
   "execution_count": 30,
   "metadata": {},
   "outputs": [],
   "source": [
    "# Remove target subreddit from all_text\n",
    "df['all_text'] = df['all_text'].str.replace('creepypasta', '')"
   ]
  },
  {
   "cell_type": "code",
   "execution_count": 31,
   "metadata": {},
   "outputs": [],
   "source": [
    "# Removing or converting subreddit specific words\n",
    "df['all_text'] = df['all_text'].str.replace('reddit', '')\n",
    "df['all_text'] = df['all_text'].str.replace('youtube', '')\n",
    "df['all_text'] = df['all_text'].str.replace('utm', '')\n",
    "df['all_text'] = df['all_text'].str.replace('oc', 'original content')\n",
    "df['all_text'] = df['all_text'].str.replace('source', '')\n",
    "df['all_text'] = df['all_text'].str.replace('slender man', 'slenderman')"
   ]
  },
  {
   "cell_type": "code",
   "execution_count": 32,
   "metadata": {},
   "outputs": [],
   "source": [
    "df['all_text'] = df['all_text'].str.replace('pasta', '')"
   ]
  },
  {
   "cell_type": "code",
   "execution_count": 33,
   "metadata": {},
   "outputs": [],
   "source": [
    "df['all_text'] = df['all_text'].str.replace('creepy', '')"
   ]
  },
  {
   "cell_type": "code",
   "execution_count": 34,
   "metadata": {},
   "outputs": [],
   "source": [
    "# Removing line break\n",
    "df['all_text'] = df['all_text'].map(lambda x: re.sub('\\n', ' ', x)) "
   ]
  },
  {
   "cell_type": "code",
   "execution_count": 35,
   "metadata": {},
   "outputs": [],
   "source": [
    "# Removing line breaks\n",
    "df['all_text'] = df['all_text'].map(lambda x: re.sub('\\/\\/', ' ', x)) "
   ]
  },
  {
   "cell_type": "code",
   "execution_count": 36,
   "metadata": {},
   "outputs": [],
   "source": [
    "# Removing apostrophes\n",
    "df['all_text'] = df['all_text'].map(lambda x: re.sub('[\\\\][\\']', '', x)) "
   ]
  },
  {
   "cell_type": "code",
   "execution_count": 37,
   "metadata": {},
   "outputs": [],
   "source": [
    "# Removing urls\n",
    "df['all_text'] = df['all_text'].map(lambda x: re.sub('http[s]?:\\/\\/[^\\s]*', ' ', x))"
   ]
  },
  {
   "cell_type": "code",
   "execution_count": 38,
   "metadata": {},
   "outputs": [],
   "source": [
    "# Removing all punctuation \n",
    "df['all_text'] = df['all_text'].map(lambda x: re.sub('[^\\w\\s]', ' ', x)) "
   ]
  },
  {
   "cell_type": "code",
   "execution_count": 39,
   "metadata": {},
   "outputs": [],
   "source": [
    "# Removing mentions of any subreddit\n",
    "df['all_text'] = df['all_text'].map(lambda x: re.sub('\\s[\\/]?r\\/[^\\s]+', ' ', x)) "
   ]
  },
  {
   "cell_type": "code",
   "execution_count": 40,
   "metadata": {},
   "outputs": [],
   "source": [
    "# Only keeps letters\n",
    "df['all_text'] = df['all_text'].map(lambda x: re.sub(\"[^a-zA-Z]\", \" \", x)) "
   ]
  },
  {
   "cell_type": "code",
   "execution_count": 41,
   "metadata": {},
   "outputs": [],
   "source": [
    "df['all_text'] = df['all_text'].map(lambda x: re.sub('z{3,20}', ' ', x)) "
   ]
  },
  {
   "cell_type": "code",
   "execution_count": 42,
   "metadata": {},
   "outputs": [],
   "source": [
    "df['all_text'] = df['all_text'].map(lambda x: re.sub('a{3,20}', ' ', x)) "
   ]
  },
  {
   "cell_type": "code",
   "execution_count": 43,
   "metadata": {},
   "outputs": [],
   "source": [
    "df['all_text'] = df['all_text'].map(lambda x: re.sub('sh{3,20}', 'shh', x)) "
   ]
  },
  {
   "cell_type": "code",
   "execution_count": 44,
   "metadata": {},
   "outputs": [],
   "source": [
    "df['all_text'] = df['all_text'].map(lambda x: re.sub('\\s{3,50}', ' ', x)) "
   ]
  },
  {
   "cell_type": "code",
   "execution_count": 45,
   "metadata": {
    "scrolled": true
   },
   "outputs": [
    {
     "data": {
      "text/html": [
       "<div>\n",
       "<style scoped>\n",
       "    .dataframe tbody tr th:only-of-type {\n",
       "        vertical-align: middle;\n",
       "    }\n",
       "\n",
       "    .dataframe tbody tr th {\n",
       "        vertical-align: top;\n",
       "    }\n",
       "\n",
       "    .dataframe thead th {\n",
       "        text-align: right;\n",
       "    }\n",
       "</style>\n",
       "<table border=\"1\" class=\"dataframe\">\n",
       "  <thead>\n",
       "    <tr style=\"text-align: right;\">\n",
       "      <th></th>\n",
       "      <th>all_text</th>\n",
       "      <th>subreddit</th>\n",
       "      <th>char_count</th>\n",
       "      <th>word_count</th>\n",
       "      <th>created_utc</th>\n",
       "    </tr>\n",
       "  </thead>\n",
       "  <tbody>\n",
       "  </tbody>\n",
       "</table>\n",
       "</div>"
      ],
      "text/plain": [
       "Empty DataFrame\n",
       "Columns: [all_text, subreddit, char_count, word_count, created_utc]\n",
       "Index: []"
      ]
     },
     "execution_count": 45,
     "metadata": {},
     "output_type": "execute_result"
    }
   ],
   "source": [
    "df[df['all_text'].str.contains('aaa')]"
   ]
  },
  {
   "cell_type": "code",
   "execution_count": 46,
   "metadata": {},
   "outputs": [
    {
     "data": {
      "text/html": [
       "<div>\n",
       "<style scoped>\n",
       "    .dataframe tbody tr th:only-of-type {\n",
       "        vertical-align: middle;\n",
       "    }\n",
       "\n",
       "    .dataframe tbody tr th {\n",
       "        vertical-align: top;\n",
       "    }\n",
       "\n",
       "    .dataframe thead th {\n",
       "        text-align: right;\n",
       "    }\n",
       "</style>\n",
       "<table border=\"1\" class=\"dataframe\">\n",
       "  <thead>\n",
       "    <tr style=\"text-align: right;\">\n",
       "      <th></th>\n",
       "      <th>all_text</th>\n",
       "      <th>subreddit</th>\n",
       "      <th>char_count</th>\n",
       "      <th>word_count</th>\n",
       "      <th>created_utc</th>\n",
       "    </tr>\n",
       "  </thead>\n",
       "  <tbody>\n",
       "  </tbody>\n",
       "</table>\n",
       "</div>"
      ],
      "text/plain": [
       "Empty DataFrame\n",
       "Columns: [all_text, subreddit, char_count, word_count, created_utc]\n",
       "Index: []"
      ]
     },
     "execution_count": 46,
     "metadata": {},
     "output_type": "execute_result"
    }
   ],
   "source": [
    "df[df['all_text'].str.contains('zzz')]"
   ]
  },
  {
   "cell_type": "code",
   "execution_count": 47,
   "metadata": {},
   "outputs": [
    {
     "data": {
      "text/html": [
       "<div>\n",
       "<style scoped>\n",
       "    .dataframe tbody tr th:only-of-type {\n",
       "        vertical-align: middle;\n",
       "    }\n",
       "\n",
       "    .dataframe tbody tr th {\n",
       "        vertical-align: top;\n",
       "    }\n",
       "\n",
       "    .dataframe thead th {\n",
       "        text-align: right;\n",
       "    }\n",
       "</style>\n",
       "<table border=\"1\" class=\"dataframe\">\n",
       "  <thead>\n",
       "    <tr style=\"text-align: right;\">\n",
       "      <th></th>\n",
       "      <th>all_text</th>\n",
       "      <th>subreddit</th>\n",
       "      <th>char_count</th>\n",
       "      <th>word_count</th>\n",
       "      <th>created_utc</th>\n",
       "    </tr>\n",
       "  </thead>\n",
       "  <tbody>\n",
       "    <tr>\n",
       "      <td>132</td>\n",
       "      <td>it s not time  this happened a couple of year...</td>\n",
       "      <td>1</td>\n",
       "      <td>2113</td>\n",
       "      <td>428</td>\n",
       "      <td>1580154670</td>\n",
       "    </tr>\n",
       "    <tr>\n",
       "      <td>164</td>\n",
       "      <td>my grandfather spoke dozens of languages  his ...</td>\n",
       "      <td>1</td>\n",
       "      <td>16823</td>\n",
       "      <td>3123</td>\n",
       "      <td>1580136828</td>\n",
       "    </tr>\n",
       "    <tr>\n",
       "      <td>248</td>\n",
       "      <td>my wife talks in her sleep  what she says some...</td>\n",
       "      <td>1</td>\n",
       "      <td>13074</td>\n",
       "      <td>2398</td>\n",
       "      <td>1580066952</td>\n",
       "    </tr>\n",
       "    <tr>\n",
       "      <td>250</td>\n",
       "      <td>ixodida  the tick a dry husk of a tick floated...</td>\n",
       "      <td>1</td>\n",
       "      <td>11101</td>\n",
       "      <td>1941</td>\n",
       "      <td>1580065038</td>\n",
       "    </tr>\n",
       "    <tr>\n",
       "      <td>404</td>\n",
       "      <td>i heard the saxophone of erich zann excuse me ...</td>\n",
       "      <td>1</td>\n",
       "      <td>32705</td>\n",
       "      <td>6119</td>\n",
       "      <td>1579969195</td>\n",
       "    </tr>\n",
       "    <tr>\n",
       "      <td>...</td>\n",
       "      <td>...</td>\n",
       "      <td>...</td>\n",
       "      <td>...</td>\n",
       "      <td>...</td>\n",
       "      <td>...</td>\n",
       "    </tr>\n",
       "    <tr>\n",
       "      <td>19403</td>\n",
       "      <td>goosebumps lost episode  surviving horrorland ...</td>\n",
       "      <td>0</td>\n",
       "      <td>16691</td>\n",
       "      <td>3012</td>\n",
       "      <td>1551229161</td>\n",
       "    </tr>\n",
       "    <tr>\n",
       "      <td>19487</td>\n",
       "      <td>doriginal contenttor black the nightmares have...</td>\n",
       "      <td>0</td>\n",
       "      <td>2327</td>\n",
       "      <td>479</td>\n",
       "      <td>1550988496</td>\n",
       "    </tr>\n",
       "    <tr>\n",
       "      <td>19577</td>\n",
       "      <td>the best one night stand of my life sweet smok...</td>\n",
       "      <td>0</td>\n",
       "      <td>4300</td>\n",
       "      <td>825</td>\n",
       "      <td>1550773476</td>\n",
       "    </tr>\n",
       "    <tr>\n",
       "      <td>19581</td>\n",
       "      <td>im afraid of eye contact i stood frozen in pla...</td>\n",
       "      <td>0</td>\n",
       "      <td>4796</td>\n",
       "      <td>914</td>\n",
       "      <td>1550762283</td>\n",
       "    </tr>\n",
       "    <tr>\n",
       "      <td>19737</td>\n",
       "      <td>hope can kill hope can kill there was a girl n...</td>\n",
       "      <td>0</td>\n",
       "      <td>7417</td>\n",
       "      <td>1430</td>\n",
       "      <td>1550356379</td>\n",
       "    </tr>\n",
       "  </tbody>\n",
       "</table>\n",
       "<p>194 rows × 5 columns</p>\n",
       "</div>"
      ],
      "text/plain": [
       "                                                all_text  subreddit  \\\n",
       "132     it s not time  this happened a couple of year...          1   \n",
       "164    my grandfather spoke dozens of languages  his ...          1   \n",
       "248    my wife talks in her sleep  what she says some...          1   \n",
       "250    ixodida  the tick a dry husk of a tick floated...          1   \n",
       "404    i heard the saxophone of erich zann excuse me ...          1   \n",
       "...                                                  ...        ...   \n",
       "19403  goosebumps lost episode  surviving horrorland ...          0   \n",
       "19487  doriginal contenttor black the nightmares have...          0   \n",
       "19577  the best one night stand of my life sweet smok...          0   \n",
       "19581  im afraid of eye contact i stood frozen in pla...          0   \n",
       "19737  hope can kill hope can kill there was a girl n...          0   \n",
       "\n",
       "       char_count  word_count  created_utc  \n",
       "132          2113         428   1580154670  \n",
       "164         16823        3123   1580136828  \n",
       "248         13074        2398   1580066952  \n",
       "250         11101        1941   1580065038  \n",
       "404         32705        6119   1579969195  \n",
       "...           ...         ...          ...  \n",
       "19403       16691        3012   1551229161  \n",
       "19487        2327         479   1550988496  \n",
       "19577        4300         825   1550773476  \n",
       "19581        4796         914   1550762283  \n",
       "19737        7417        1430   1550356379  \n",
       "\n",
       "[194 rows x 5 columns]"
      ]
     },
     "execution_count": 47,
     "metadata": {},
     "output_type": "execute_result"
    }
   ],
   "source": [
    "df[df['all_text'].str.contains('shh')]"
   ]
  },
  {
   "cell_type": "code",
   "execution_count": 48,
   "metadata": {
    "scrolled": true
   },
   "outputs": [
    {
     "data": {
      "text/plain": [
       "0                                      late night laundry \n",
       "1                    why did the moon disappear  part one \n",
       "2                           you dont die of old age  part \n",
       "3        why did the moon disappear  true story  part o...\n",
       "4                                        the door to hell \n",
       "                               ...                        \n",
       "19793          scary stories horror stories  amp readings \n",
       "19794                they never learn  by ipostatmidnight \n",
       "19795    do i pay for hi  im starting a polish language...\n",
       "19796    ddd now this beast has been let loose  and not...\n",
       "19797                                happy valentines day \n",
       "Name: all_text, Length: 19798, dtype: object"
      ]
     },
     "execution_count": 48,
     "metadata": {},
     "output_type": "execute_result"
    }
   ],
   "source": [
    "df['all_text']"
   ]
  },
  {
   "cell_type": "code",
   "execution_count": 49,
   "metadata": {},
   "outputs": [
    {
     "data": {
      "text/html": [
       "<div>\n",
       "<style scoped>\n",
       "    .dataframe tbody tr th:only-of-type {\n",
       "        vertical-align: middle;\n",
       "    }\n",
       "\n",
       "    .dataframe tbody tr th {\n",
       "        vertical-align: top;\n",
       "    }\n",
       "\n",
       "    .dataframe thead th {\n",
       "        text-align: right;\n",
       "    }\n",
       "</style>\n",
       "<table border=\"1\" class=\"dataframe\">\n",
       "  <thead>\n",
       "    <tr style=\"text-align: right;\">\n",
       "      <th></th>\n",
       "      <th>all_text</th>\n",
       "      <th>subreddit</th>\n",
       "      <th>char_count</th>\n",
       "      <th>word_count</th>\n",
       "      <th>created_utc</th>\n",
       "    </tr>\n",
       "  </thead>\n",
       "  <tbody>\n",
       "    <tr>\n",
       "      <td>0</td>\n",
       "      <td>late night laundry</td>\n",
       "      <td>1</td>\n",
       "      <td>28</td>\n",
       "      <td>4</td>\n",
       "      <td>1580239970</td>\n",
       "    </tr>\n",
       "    <tr>\n",
       "      <td>1</td>\n",
       "      <td>why did the moon disappear  part one</td>\n",
       "      <td>1</td>\n",
       "      <td>48</td>\n",
       "      <td>8</td>\n",
       "      <td>1580239486</td>\n",
       "    </tr>\n",
       "    <tr>\n",
       "      <td>2</td>\n",
       "      <td>you dont die of old age  part</td>\n",
       "      <td>1</td>\n",
       "      <td>43</td>\n",
       "      <td>9</td>\n",
       "      <td>1580239395</td>\n",
       "    </tr>\n",
       "    <tr>\n",
       "      <td>3</td>\n",
       "      <td>why did the moon disappear  true story  part o...</td>\n",
       "      <td>1</td>\n",
       "      <td>61</td>\n",
       "      <td>10</td>\n",
       "      <td>1580238771</td>\n",
       "    </tr>\n",
       "    <tr>\n",
       "      <td>4</td>\n",
       "      <td>the door to hell</td>\n",
       "      <td>1</td>\n",
       "      <td>17</td>\n",
       "      <td>4</td>\n",
       "      <td>1580237605</td>\n",
       "    </tr>\n",
       "  </tbody>\n",
       "</table>\n",
       "</div>"
      ],
      "text/plain": [
       "                                            all_text  subreddit  char_count  \\\n",
       "0                                late night laundry           1          28   \n",
       "1              why did the moon disappear  part one           1          48   \n",
       "2                     you dont die of old age  part           1          43   \n",
       "3  why did the moon disappear  true story  part o...          1          61   \n",
       "4                                  the door to hell           1          17   \n",
       "\n",
       "   word_count  created_utc  \n",
       "0           4   1580239970  \n",
       "1           8   1580239486  \n",
       "2           9   1580239395  \n",
       "3          10   1580238771  \n",
       "4           4   1580237605  "
      ]
     },
     "execution_count": 49,
     "metadata": {},
     "output_type": "execute_result"
    }
   ],
   "source": [
    "df.head()"
   ]
  },
  {
   "cell_type": "code",
   "execution_count": 50,
   "metadata": {},
   "outputs": [
    {
     "data": {
      "text/html": [
       "<div>\n",
       "<style scoped>\n",
       "    .dataframe tbody tr th:only-of-type {\n",
       "        vertical-align: middle;\n",
       "    }\n",
       "\n",
       "    .dataframe tbody tr th {\n",
       "        vertical-align: top;\n",
       "    }\n",
       "\n",
       "    .dataframe thead th {\n",
       "        text-align: right;\n",
       "    }\n",
       "</style>\n",
       "<table border=\"1\" class=\"dataframe\">\n",
       "  <thead>\n",
       "    <tr style=\"text-align: right;\">\n",
       "      <th></th>\n",
       "      <th>char_count</th>\n",
       "      <th>word_count</th>\n",
       "    </tr>\n",
       "  </thead>\n",
       "  <tbody>\n",
       "    <tr>\n",
       "      <td>count</td>\n",
       "      <td>19798.000000</td>\n",
       "      <td>19798.000000</td>\n",
       "    </tr>\n",
       "    <tr>\n",
       "      <td>mean</td>\n",
       "      <td>4657.868977</td>\n",
       "      <td>864.606576</td>\n",
       "    </tr>\n",
       "    <tr>\n",
       "      <td>std</td>\n",
       "      <td>6446.761594</td>\n",
       "      <td>1185.867372</td>\n",
       "    </tr>\n",
       "    <tr>\n",
       "      <td>min</td>\n",
       "      <td>10.000000</td>\n",
       "      <td>1.000000</td>\n",
       "    </tr>\n",
       "    <tr>\n",
       "      <td>25%</td>\n",
       "      <td>63.000000</td>\n",
       "      <td>11.000000</td>\n",
       "    </tr>\n",
       "    <tr>\n",
       "      <td>50%</td>\n",
       "      <td>2561.500000</td>\n",
       "      <td>493.000000</td>\n",
       "    </tr>\n",
       "    <tr>\n",
       "      <td>75%</td>\n",
       "      <td>6748.750000</td>\n",
       "      <td>1254.000000</td>\n",
       "    </tr>\n",
       "    <tr>\n",
       "      <td>max</td>\n",
       "      <td>40795.000000</td>\n",
       "      <td>7622.000000</td>\n",
       "    </tr>\n",
       "  </tbody>\n",
       "</table>\n",
       "</div>"
      ],
      "text/plain": [
       "         char_count    word_count\n",
       "count  19798.000000  19798.000000\n",
       "mean    4657.868977    864.606576\n",
       "std     6446.761594   1185.867372\n",
       "min       10.000000      1.000000\n",
       "25%       63.000000     11.000000\n",
       "50%     2561.500000    493.000000\n",
       "75%     6748.750000   1254.000000\n",
       "max    40795.000000   7622.000000"
      ]
     },
     "execution_count": 50,
     "metadata": {},
     "output_type": "execute_result"
    }
   ],
   "source": [
    "df[['char_count', 'word_count']].describe()"
   ]
  },
  {
   "cell_type": "markdown",
   "metadata": {},
   "source": [
    "### Remove more stopwords from list above"
   ]
  },
  {
   "cell_type": "code",
   "execution_count": 139,
   "metadata": {},
   "outputs": [
    {
     "data": {
      "text/plain": [
       "0"
      ]
     },
     "execution_count": 139,
     "metadata": {},
     "output_type": "execute_result"
    }
   ],
   "source": [
    "# Make list to remove more stopwords as they are top words for both but don't add much to classifying\n",
    "remove = ['got', 'amp', 'said', 'know', 'time', 'just', 'like', 'did', \n",
    "          'went', 'way', 'think', 'thought', 'saw', 'going', 'im', 'came', \n",
    "          'right', 'looked', 'saw', 'going', 'don', 'started', 'really', 'make']\n",
    "\n",
    "# Loop through text to find and remove these instances\n",
    "for i in remove:\n",
    "    df['all_text'] = df['all_text'].str.replace(i, '')\n",
    "\n",
    "df['all_text'].str.contains('think').sum()"
   ]
  },
  {
   "cell_type": "markdown",
   "metadata": {},
   "source": [
    "#### Pickle clean DataFrame"
   ]
  },
  {
   "cell_type": "code",
   "execution_count": 140,
   "metadata": {},
   "outputs": [],
   "source": [
    "pickle.dump(df, open('../assets/clean_df.pkl', 'wb'))"
   ]
  },
  {
   "cell_type": "markdown",
   "metadata": {},
   "source": [
    "### CountVec for `all_text`"
   ]
  },
  {
   "cell_type": "code",
   "execution_count": 141,
   "metadata": {},
   "outputs": [],
   "source": [
    "df = pickle.load(open('../assets/clean_df.pkl', 'rb'))"
   ]
  },
  {
   "cell_type": "code",
   "execution_count": 142,
   "metadata": {},
   "outputs": [],
   "source": [
    "from sklearn.feature_extraction.text import CountVectorizer\n",
    "from nltk.corpus import stopwords"
   ]
  },
  {
   "cell_type": "code",
   "execution_count": 143,
   "metadata": {},
   "outputs": [],
   "source": [
    "cvec = CountVectorizer(stop_words='english', min_df=5, max_df=1.0)"
   ]
  },
  {
   "cell_type": "code",
   "execution_count": 144,
   "metadata": {},
   "outputs": [],
   "source": [
    "text = cvec.fit_transform(df['all_text'])"
   ]
  },
  {
   "cell_type": "code",
   "execution_count": 145,
   "metadata": {},
   "outputs": [
    {
     "data": {
      "text/plain": [
       "30386"
      ]
     },
     "execution_count": 145,
     "metadata": {},
     "output_type": "execute_result"
    }
   ],
   "source": [
    "len(cvec.get_feature_names())"
   ]
  },
  {
   "cell_type": "code",
   "execution_count": 146,
   "metadata": {},
   "outputs": [],
   "source": [
    "text_df = pd.DataFrame(text.toarray(), columns=cvec.get_feature_names())"
   ]
  },
  {
   "cell_type": "code",
   "execution_count": 147,
   "metadata": {},
   "outputs": [
    {
     "data": {
      "text/html": [
       "<div>\n",
       "<style scoped>\n",
       "    .dataframe tbody tr th:only-of-type {\n",
       "        vertical-align: middle;\n",
       "    }\n",
       "\n",
       "    .dataframe tbody tr th {\n",
       "        vertical-align: top;\n",
       "    }\n",
       "\n",
       "    .dataframe thead th {\n",
       "        text-align: right;\n",
       "    }\n",
       "</style>\n",
       "<table border=\"1\" class=\"dataframe\">\n",
       "  <thead>\n",
       "    <tr style=\"text-align: right;\">\n",
       "      <th></th>\n",
       "      <th>aa</th>\n",
       "      <th>aah</th>\n",
       "      <th>aand</th>\n",
       "      <th>aaron</th>\n",
       "      <th>aarons</th>\n",
       "      <th>aas</th>\n",
       "      <th>ab</th>\n",
       "      <th>aback</th>\n",
       "      <th>aban</th>\n",
       "      <th>abaned</th>\n",
       "      <th>...</th>\n",
       "      <th>zones</th>\n",
       "      <th>zoning</th>\n",
       "      <th>zoo</th>\n",
       "      <th>zoologist</th>\n",
       "      <th>zoom</th>\n",
       "      <th>zoomed</th>\n",
       "      <th>zooming</th>\n",
       "      <th>zooms</th>\n",
       "      <th>zozo</th>\n",
       "      <th>zs</th>\n",
       "    </tr>\n",
       "  </thead>\n",
       "  <tbody>\n",
       "    <tr>\n",
       "      <td>0</td>\n",
       "      <td>0</td>\n",
       "      <td>0</td>\n",
       "      <td>0</td>\n",
       "      <td>0</td>\n",
       "      <td>0</td>\n",
       "      <td>0</td>\n",
       "      <td>0</td>\n",
       "      <td>0</td>\n",
       "      <td>0</td>\n",
       "      <td>0</td>\n",
       "      <td>...</td>\n",
       "      <td>0</td>\n",
       "      <td>0</td>\n",
       "      <td>0</td>\n",
       "      <td>0</td>\n",
       "      <td>0</td>\n",
       "      <td>0</td>\n",
       "      <td>0</td>\n",
       "      <td>0</td>\n",
       "      <td>0</td>\n",
       "      <td>0</td>\n",
       "    </tr>\n",
       "    <tr>\n",
       "      <td>1</td>\n",
       "      <td>0</td>\n",
       "      <td>0</td>\n",
       "      <td>0</td>\n",
       "      <td>0</td>\n",
       "      <td>0</td>\n",
       "      <td>0</td>\n",
       "      <td>0</td>\n",
       "      <td>0</td>\n",
       "      <td>0</td>\n",
       "      <td>0</td>\n",
       "      <td>...</td>\n",
       "      <td>0</td>\n",
       "      <td>0</td>\n",
       "      <td>0</td>\n",
       "      <td>0</td>\n",
       "      <td>0</td>\n",
       "      <td>0</td>\n",
       "      <td>0</td>\n",
       "      <td>0</td>\n",
       "      <td>0</td>\n",
       "      <td>0</td>\n",
       "    </tr>\n",
       "    <tr>\n",
       "      <td>2</td>\n",
       "      <td>0</td>\n",
       "      <td>0</td>\n",
       "      <td>0</td>\n",
       "      <td>0</td>\n",
       "      <td>0</td>\n",
       "      <td>0</td>\n",
       "      <td>0</td>\n",
       "      <td>0</td>\n",
       "      <td>0</td>\n",
       "      <td>0</td>\n",
       "      <td>...</td>\n",
       "      <td>0</td>\n",
       "      <td>0</td>\n",
       "      <td>0</td>\n",
       "      <td>0</td>\n",
       "      <td>0</td>\n",
       "      <td>0</td>\n",
       "      <td>0</td>\n",
       "      <td>0</td>\n",
       "      <td>0</td>\n",
       "      <td>0</td>\n",
       "    </tr>\n",
       "    <tr>\n",
       "      <td>3</td>\n",
       "      <td>0</td>\n",
       "      <td>0</td>\n",
       "      <td>0</td>\n",
       "      <td>0</td>\n",
       "      <td>0</td>\n",
       "      <td>0</td>\n",
       "      <td>0</td>\n",
       "      <td>0</td>\n",
       "      <td>0</td>\n",
       "      <td>0</td>\n",
       "      <td>...</td>\n",
       "      <td>0</td>\n",
       "      <td>0</td>\n",
       "      <td>0</td>\n",
       "      <td>0</td>\n",
       "      <td>0</td>\n",
       "      <td>0</td>\n",
       "      <td>0</td>\n",
       "      <td>0</td>\n",
       "      <td>0</td>\n",
       "      <td>0</td>\n",
       "    </tr>\n",
       "    <tr>\n",
       "      <td>4</td>\n",
       "      <td>0</td>\n",
       "      <td>0</td>\n",
       "      <td>0</td>\n",
       "      <td>0</td>\n",
       "      <td>0</td>\n",
       "      <td>0</td>\n",
       "      <td>0</td>\n",
       "      <td>0</td>\n",
       "      <td>0</td>\n",
       "      <td>0</td>\n",
       "      <td>...</td>\n",
       "      <td>0</td>\n",
       "      <td>0</td>\n",
       "      <td>0</td>\n",
       "      <td>0</td>\n",
       "      <td>0</td>\n",
       "      <td>0</td>\n",
       "      <td>0</td>\n",
       "      <td>0</td>\n",
       "      <td>0</td>\n",
       "      <td>0</td>\n",
       "    </tr>\n",
       "  </tbody>\n",
       "</table>\n",
       "<p>5 rows × 30386 columns</p>\n",
       "</div>"
      ],
      "text/plain": [
       "   aa  aah  aand  aaron  aarons  aas  ab  aback  aban  abaned  ...  zones  \\\n",
       "0   0    0     0      0       0    0   0      0     0       0  ...      0   \n",
       "1   0    0     0      0       0    0   0      0     0       0  ...      0   \n",
       "2   0    0     0      0       0    0   0      0     0       0  ...      0   \n",
       "3   0    0     0      0       0    0   0      0     0       0  ...      0   \n",
       "4   0    0     0      0       0    0   0      0     0       0  ...      0   \n",
       "\n",
       "   zoning  zoo  zoologist  zoom  zoomed  zooming  zooms  zozo  zs  \n",
       "0       0    0          0     0       0        0      0     0   0  \n",
       "1       0    0          0     0       0        0      0     0   0  \n",
       "2       0    0          0     0       0        0      0     0   0  \n",
       "3       0    0          0     0       0        0      0     0   0  \n",
       "4       0    0          0     0       0        0      0     0   0  \n",
       "\n",
       "[5 rows x 30386 columns]"
      ]
     },
     "execution_count": 147,
     "metadata": {},
     "output_type": "execute_result"
    }
   ],
   "source": [
    "text_df.head()"
   ]
  },
  {
   "cell_type": "code",
   "execution_count": 148,
   "metadata": {},
   "outputs": [],
   "source": [
    "text_df.insert(0, 'subredd', df['subreddit'])"
   ]
  },
  {
   "cell_type": "code",
   "execution_count": 149,
   "metadata": {},
   "outputs": [
    {
     "data": {
      "text/html": [
       "<div>\n",
       "<style scoped>\n",
       "    .dataframe tbody tr th:only-of-type {\n",
       "        vertical-align: middle;\n",
       "    }\n",
       "\n",
       "    .dataframe tbody tr th {\n",
       "        vertical-align: top;\n",
       "    }\n",
       "\n",
       "    .dataframe thead th {\n",
       "        text-align: right;\n",
       "    }\n",
       "</style>\n",
       "<table border=\"1\" class=\"dataframe\">\n",
       "  <thead>\n",
       "    <tr style=\"text-align: right;\">\n",
       "      <th></th>\n",
       "      <th>subredd</th>\n",
       "      <th>aa</th>\n",
       "      <th>aah</th>\n",
       "      <th>aand</th>\n",
       "      <th>aaron</th>\n",
       "      <th>aarons</th>\n",
       "      <th>aas</th>\n",
       "      <th>ab</th>\n",
       "      <th>aback</th>\n",
       "      <th>aban</th>\n",
       "      <th>...</th>\n",
       "      <th>zones</th>\n",
       "      <th>zoning</th>\n",
       "      <th>zoo</th>\n",
       "      <th>zoologist</th>\n",
       "      <th>zoom</th>\n",
       "      <th>zoomed</th>\n",
       "      <th>zooming</th>\n",
       "      <th>zooms</th>\n",
       "      <th>zozo</th>\n",
       "      <th>zs</th>\n",
       "    </tr>\n",
       "  </thead>\n",
       "  <tbody>\n",
       "    <tr>\n",
       "      <td>0</td>\n",
       "      <td>1</td>\n",
       "      <td>0</td>\n",
       "      <td>0</td>\n",
       "      <td>0</td>\n",
       "      <td>0</td>\n",
       "      <td>0</td>\n",
       "      <td>0</td>\n",
       "      <td>0</td>\n",
       "      <td>0</td>\n",
       "      <td>0</td>\n",
       "      <td>...</td>\n",
       "      <td>0</td>\n",
       "      <td>0</td>\n",
       "      <td>0</td>\n",
       "      <td>0</td>\n",
       "      <td>0</td>\n",
       "      <td>0</td>\n",
       "      <td>0</td>\n",
       "      <td>0</td>\n",
       "      <td>0</td>\n",
       "      <td>0</td>\n",
       "    </tr>\n",
       "    <tr>\n",
       "      <td>1</td>\n",
       "      <td>1</td>\n",
       "      <td>0</td>\n",
       "      <td>0</td>\n",
       "      <td>0</td>\n",
       "      <td>0</td>\n",
       "      <td>0</td>\n",
       "      <td>0</td>\n",
       "      <td>0</td>\n",
       "      <td>0</td>\n",
       "      <td>0</td>\n",
       "      <td>...</td>\n",
       "      <td>0</td>\n",
       "      <td>0</td>\n",
       "      <td>0</td>\n",
       "      <td>0</td>\n",
       "      <td>0</td>\n",
       "      <td>0</td>\n",
       "      <td>0</td>\n",
       "      <td>0</td>\n",
       "      <td>0</td>\n",
       "      <td>0</td>\n",
       "    </tr>\n",
       "    <tr>\n",
       "      <td>2</td>\n",
       "      <td>1</td>\n",
       "      <td>0</td>\n",
       "      <td>0</td>\n",
       "      <td>0</td>\n",
       "      <td>0</td>\n",
       "      <td>0</td>\n",
       "      <td>0</td>\n",
       "      <td>0</td>\n",
       "      <td>0</td>\n",
       "      <td>0</td>\n",
       "      <td>...</td>\n",
       "      <td>0</td>\n",
       "      <td>0</td>\n",
       "      <td>0</td>\n",
       "      <td>0</td>\n",
       "      <td>0</td>\n",
       "      <td>0</td>\n",
       "      <td>0</td>\n",
       "      <td>0</td>\n",
       "      <td>0</td>\n",
       "      <td>0</td>\n",
       "    </tr>\n",
       "    <tr>\n",
       "      <td>3</td>\n",
       "      <td>1</td>\n",
       "      <td>0</td>\n",
       "      <td>0</td>\n",
       "      <td>0</td>\n",
       "      <td>0</td>\n",
       "      <td>0</td>\n",
       "      <td>0</td>\n",
       "      <td>0</td>\n",
       "      <td>0</td>\n",
       "      <td>0</td>\n",
       "      <td>...</td>\n",
       "      <td>0</td>\n",
       "      <td>0</td>\n",
       "      <td>0</td>\n",
       "      <td>0</td>\n",
       "      <td>0</td>\n",
       "      <td>0</td>\n",
       "      <td>0</td>\n",
       "      <td>0</td>\n",
       "      <td>0</td>\n",
       "      <td>0</td>\n",
       "    </tr>\n",
       "    <tr>\n",
       "      <td>4</td>\n",
       "      <td>1</td>\n",
       "      <td>0</td>\n",
       "      <td>0</td>\n",
       "      <td>0</td>\n",
       "      <td>0</td>\n",
       "      <td>0</td>\n",
       "      <td>0</td>\n",
       "      <td>0</td>\n",
       "      <td>0</td>\n",
       "      <td>0</td>\n",
       "      <td>...</td>\n",
       "      <td>0</td>\n",
       "      <td>0</td>\n",
       "      <td>0</td>\n",
       "      <td>0</td>\n",
       "      <td>0</td>\n",
       "      <td>0</td>\n",
       "      <td>0</td>\n",
       "      <td>0</td>\n",
       "      <td>0</td>\n",
       "      <td>0</td>\n",
       "    </tr>\n",
       "  </tbody>\n",
       "</table>\n",
       "<p>5 rows × 30387 columns</p>\n",
       "</div>"
      ],
      "text/plain": [
       "   subredd  aa  aah  aand  aaron  aarons  aas  ab  aback  aban  ...  zones  \\\n",
       "0        1   0    0     0      0       0    0   0      0     0  ...      0   \n",
       "1        1   0    0     0      0       0    0   0      0     0  ...      0   \n",
       "2        1   0    0     0      0       0    0   0      0     0  ...      0   \n",
       "3        1   0    0     0      0       0    0   0      0     0  ...      0   \n",
       "4        1   0    0     0      0       0    0   0      0     0  ...      0   \n",
       "\n",
       "   zoning  zoo  zoologist  zoom  zoomed  zooming  zooms  zozo  zs  \n",
       "0       0    0          0     0       0        0      0     0   0  \n",
       "1       0    0          0     0       0        0      0     0   0  \n",
       "2       0    0          0     0       0        0      0     0   0  \n",
       "3       0    0          0     0       0        0      0     0   0  \n",
       "4       0    0          0     0       0        0      0     0   0  \n",
       "\n",
       "[5 rows x 30387 columns]"
      ]
     },
     "execution_count": 149,
     "metadata": {},
     "output_type": "execute_result"
    }
   ],
   "source": [
    "text_df.head()"
   ]
  },
  {
   "cell_type": "markdown",
   "metadata": {},
   "source": [
    "### Distributions"
   ]
  },
  {
   "cell_type": "code",
   "execution_count": 150,
   "metadata": {},
   "outputs": [
    {
     "data": {
      "text/html": [
       "<div>\n",
       "<style scoped>\n",
       "    .dataframe tbody tr th:only-of-type {\n",
       "        vertical-align: middle;\n",
       "    }\n",
       "\n",
       "    .dataframe tbody tr th {\n",
       "        vertical-align: top;\n",
       "    }\n",
       "\n",
       "    .dataframe thead th {\n",
       "        text-align: right;\n",
       "    }\n",
       "</style>\n",
       "<table border=\"1\" class=\"dataframe\">\n",
       "  <thead>\n",
       "    <tr style=\"text-align: right;\">\n",
       "      <th></th>\n",
       "      <th>aa</th>\n",
       "      <th>aah</th>\n",
       "      <th>aand</th>\n",
       "      <th>aaron</th>\n",
       "      <th>aarons</th>\n",
       "      <th>aas</th>\n",
       "      <th>ab</th>\n",
       "      <th>aback</th>\n",
       "      <th>aban</th>\n",
       "      <th>abaned</th>\n",
       "      <th>...</th>\n",
       "      <th>zones</th>\n",
       "      <th>zoning</th>\n",
       "      <th>zoo</th>\n",
       "      <th>zoologist</th>\n",
       "      <th>zoom</th>\n",
       "      <th>zoomed</th>\n",
       "      <th>zooming</th>\n",
       "      <th>zooms</th>\n",
       "      <th>zozo</th>\n",
       "      <th>zs</th>\n",
       "    </tr>\n",
       "    <tr>\n",
       "      <th>subredd</th>\n",
       "      <th></th>\n",
       "      <th></th>\n",
       "      <th></th>\n",
       "      <th></th>\n",
       "      <th></th>\n",
       "      <th></th>\n",
       "      <th></th>\n",
       "      <th></th>\n",
       "      <th></th>\n",
       "      <th></th>\n",
       "      <th></th>\n",
       "      <th></th>\n",
       "      <th></th>\n",
       "      <th></th>\n",
       "      <th></th>\n",
       "      <th></th>\n",
       "      <th></th>\n",
       "      <th></th>\n",
       "      <th></th>\n",
       "      <th></th>\n",
       "      <th></th>\n",
       "    </tr>\n",
       "  </thead>\n",
       "  <tbody>\n",
       "    <tr>\n",
       "      <td>0</td>\n",
       "      <td>0.000612</td>\n",
       "      <td>0.000204</td>\n",
       "      <td>0.0000</td>\n",
       "      <td>0.002243</td>\n",
       "      <td>0.00051</td>\n",
       "      <td>0.0000</td>\n",
       "      <td>0.000816</td>\n",
       "      <td>0.002753</td>\n",
       "      <td>0.003569</td>\n",
       "      <td>0.047211</td>\n",
       "      <td>...</td>\n",
       "      <td>0.000918</td>\n",
       "      <td>0.000510</td>\n",
       "      <td>0.002447</td>\n",
       "      <td>0.000102</td>\n",
       "      <td>0.001530</td>\n",
       "      <td>0.002243</td>\n",
       "      <td>0.001835</td>\n",
       "      <td>0.000408</td>\n",
       "      <td>0.000306</td>\n",
       "      <td>0.000102</td>\n",
       "    </tr>\n",
       "    <tr>\n",
       "      <td>1</td>\n",
       "      <td>0.003103</td>\n",
       "      <td>0.000601</td>\n",
       "      <td>0.0005</td>\n",
       "      <td>0.032329</td>\n",
       "      <td>0.00020</td>\n",
       "      <td>0.0005</td>\n",
       "      <td>0.001702</td>\n",
       "      <td>0.013512</td>\n",
       "      <td>0.012311</td>\n",
       "      <td>0.089080</td>\n",
       "      <td>...</td>\n",
       "      <td>0.001301</td>\n",
       "      <td>0.001601</td>\n",
       "      <td>0.024922</td>\n",
       "      <td>0.000601</td>\n",
       "      <td>0.002803</td>\n",
       "      <td>0.007006</td>\n",
       "      <td>0.003003</td>\n",
       "      <td>0.001501</td>\n",
       "      <td>0.000601</td>\n",
       "      <td>0.000500</td>\n",
       "    </tr>\n",
       "  </tbody>\n",
       "</table>\n",
       "<p>2 rows × 30386 columns</p>\n",
       "</div>"
      ],
      "text/plain": [
       "               aa       aah    aand     aaron   aarons     aas        ab  \\\n",
       "subredd                                                                    \n",
       "0        0.000612  0.000204  0.0000  0.002243  0.00051  0.0000  0.000816   \n",
       "1        0.003103  0.000601  0.0005  0.032329  0.00020  0.0005  0.001702   \n",
       "\n",
       "            aback      aban    abaned  ...     zones    zoning       zoo  \\\n",
       "subredd                                ...                                 \n",
       "0        0.002753  0.003569  0.047211  ...  0.000918  0.000510  0.002447   \n",
       "1        0.013512  0.012311  0.089080  ...  0.001301  0.001601  0.024922   \n",
       "\n",
       "         zoologist      zoom    zoomed   zooming     zooms      zozo        zs  \n",
       "subredd                                                                         \n",
       "0         0.000102  0.001530  0.002243  0.001835  0.000408  0.000306  0.000102  \n",
       "1         0.000601  0.002803  0.007006  0.003003  0.001501  0.000601  0.000500  \n",
       "\n",
       "[2 rows x 30386 columns]"
      ]
     },
     "execution_count": 150,
     "metadata": {},
     "output_type": "execute_result"
    }
   ],
   "source": [
    "text_df.groupby('subredd').mean()"
   ]
  },
  {
   "cell_type": "code",
   "execution_count": 151,
   "metadata": {},
   "outputs": [
    {
     "data": {
      "text/html": [
       "<div>\n",
       "<style scoped>\n",
       "    .dataframe tbody tr th:only-of-type {\n",
       "        vertical-align: middle;\n",
       "    }\n",
       "\n",
       "    .dataframe tbody tr th {\n",
       "        vertical-align: top;\n",
       "    }\n",
       "\n",
       "    .dataframe thead th {\n",
       "        text-align: right;\n",
       "    }\n",
       "</style>\n",
       "<table border=\"1\" class=\"dataframe\">\n",
       "  <thead>\n",
       "    <tr style=\"text-align: right;\">\n",
       "      <th></th>\n",
       "      <th>aa</th>\n",
       "      <th>aah</th>\n",
       "      <th>aand</th>\n",
       "      <th>aaron</th>\n",
       "      <th>aarons</th>\n",
       "      <th>aas</th>\n",
       "      <th>ab</th>\n",
       "      <th>aback</th>\n",
       "      <th>aban</th>\n",
       "      <th>abaned</th>\n",
       "      <th>...</th>\n",
       "      <th>zones</th>\n",
       "      <th>zoning</th>\n",
       "      <th>zoo</th>\n",
       "      <th>zoologist</th>\n",
       "      <th>zoom</th>\n",
       "      <th>zoomed</th>\n",
       "      <th>zooming</th>\n",
       "      <th>zooms</th>\n",
       "      <th>zozo</th>\n",
       "      <th>zs</th>\n",
       "    </tr>\n",
       "    <tr>\n",
       "      <th>subredd</th>\n",
       "      <th></th>\n",
       "      <th></th>\n",
       "      <th></th>\n",
       "      <th></th>\n",
       "      <th></th>\n",
       "      <th></th>\n",
       "      <th></th>\n",
       "      <th></th>\n",
       "      <th></th>\n",
       "      <th></th>\n",
       "      <th></th>\n",
       "      <th></th>\n",
       "      <th></th>\n",
       "      <th></th>\n",
       "      <th></th>\n",
       "      <th></th>\n",
       "      <th></th>\n",
       "      <th></th>\n",
       "      <th></th>\n",
       "      <th></th>\n",
       "      <th></th>\n",
       "    </tr>\n",
       "  </thead>\n",
       "  <tbody>\n",
       "    <tr>\n",
       "      <td>0</td>\n",
       "      <td>6</td>\n",
       "      <td>2</td>\n",
       "      <td>0</td>\n",
       "      <td>22</td>\n",
       "      <td>5</td>\n",
       "      <td>0</td>\n",
       "      <td>8</td>\n",
       "      <td>27</td>\n",
       "      <td>35</td>\n",
       "      <td>463</td>\n",
       "      <td>...</td>\n",
       "      <td>9</td>\n",
       "      <td>5</td>\n",
       "      <td>24</td>\n",
       "      <td>1</td>\n",
       "      <td>15</td>\n",
       "      <td>22</td>\n",
       "      <td>18</td>\n",
       "      <td>4</td>\n",
       "      <td>3</td>\n",
       "      <td>1</td>\n",
       "    </tr>\n",
       "    <tr>\n",
       "      <td>1</td>\n",
       "      <td>31</td>\n",
       "      <td>6</td>\n",
       "      <td>5</td>\n",
       "      <td>323</td>\n",
       "      <td>2</td>\n",
       "      <td>5</td>\n",
       "      <td>17</td>\n",
       "      <td>135</td>\n",
       "      <td>123</td>\n",
       "      <td>890</td>\n",
       "      <td>...</td>\n",
       "      <td>13</td>\n",
       "      <td>16</td>\n",
       "      <td>249</td>\n",
       "      <td>6</td>\n",
       "      <td>28</td>\n",
       "      <td>70</td>\n",
       "      <td>30</td>\n",
       "      <td>15</td>\n",
       "      <td>6</td>\n",
       "      <td>5</td>\n",
       "    </tr>\n",
       "  </tbody>\n",
       "</table>\n",
       "<p>2 rows × 30386 columns</p>\n",
       "</div>"
      ],
      "text/plain": [
       "         aa  aah  aand  aaron  aarons  aas  ab  aback  aban  abaned  ...  \\\n",
       "subredd                                                              ...   \n",
       "0         6    2     0     22       5    0   8     27    35     463  ...   \n",
       "1        31    6     5    323       2    5  17    135   123     890  ...   \n",
       "\n",
       "         zones  zoning  zoo  zoologist  zoom  zoomed  zooming  zooms  zozo  zs  \n",
       "subredd                                                                         \n",
       "0            9       5   24          1    15      22       18      4     3   1  \n",
       "1           13      16  249          6    28      70       30     15     6   5  \n",
       "\n",
       "[2 rows x 30386 columns]"
      ]
     },
     "execution_count": 151,
     "metadata": {},
     "output_type": "execute_result"
    }
   ],
   "source": [
    "text_df.groupby('subredd').sum()"
   ]
  },
  {
   "cell_type": "code",
   "execution_count": 152,
   "metadata": {
    "scrolled": true
   },
   "outputs": [
    {
     "data": {
      "text/html": [
       "<div>\n",
       "<style scoped>\n",
       "    .dataframe tbody tr th:only-of-type {\n",
       "        vertical-align: middle;\n",
       "    }\n",
       "\n",
       "    .dataframe tbody tr th {\n",
       "        vertical-align: top;\n",
       "    }\n",
       "\n",
       "    .dataframe thead th {\n",
       "        text-align: right;\n",
       "    }\n",
       "</style>\n",
       "<table border=\"1\" class=\"dataframe\">\n",
       "  <thead>\n",
       "    <tr style=\"text-align: right;\">\n",
       "      <th>subredd</th>\n",
       "      <th>0</th>\n",
       "      <th>1</th>\n",
       "    </tr>\n",
       "  </thead>\n",
       "  <tbody>\n",
       "    <tr>\n",
       "      <td>door</td>\n",
       "      <td>0.750076</td>\n",
       "      <td>2.197878</td>\n",
       "    </tr>\n",
       "    <tr>\n",
       "      <td>eyes</td>\n",
       "      <td>0.747221</td>\n",
       "      <td>2.111801</td>\n",
       "    </tr>\n",
       "    <tr>\n",
       "      <td>room</td>\n",
       "      <td>0.693382</td>\n",
       "      <td>1.936343</td>\n",
       "    </tr>\n",
       "    <tr>\n",
       "      <td>man</td>\n",
       "      <td>0.646885</td>\n",
       "      <td>1.511160</td>\n",
       "    </tr>\n",
       "    <tr>\n",
       "      <td>night</td>\n",
       "      <td>0.626491</td>\n",
       "      <td>1.608047</td>\n",
       "    </tr>\n",
       "    <tr>\n",
       "      <td>day</td>\n",
       "      <td>0.575201</td>\n",
       "      <td>1.459614</td>\n",
       "    </tr>\n",
       "    <tr>\n",
       "      <td>house</td>\n",
       "      <td>0.551443</td>\n",
       "      <td>1.490241</td>\n",
       "    </tr>\n",
       "    <tr>\n",
       "      <td>face</td>\n",
       "      <td>0.537779</td>\n",
       "      <td>1.460514</td>\n",
       "    </tr>\n",
       "    <tr>\n",
       "      <td>head</td>\n",
       "      <td>0.508922</td>\n",
       "      <td>1.493444</td>\n",
       "    </tr>\n",
       "    <tr>\n",
       "      <td>felt</td>\n",
       "      <td>0.504640</td>\n",
       "      <td>1.582524</td>\n",
       "    </tr>\n",
       "    <tr>\n",
       "      <td>people</td>\n",
       "      <td>0.501377</td>\n",
       "      <td>1.394355</td>\n",
       "    </tr>\n",
       "    <tr>\n",
       "      <td>heard</td>\n",
       "      <td>0.482818</td>\n",
       "      <td>1.314483</td>\n",
       "    </tr>\n",
       "    <tr>\n",
       "      <td>thing</td>\n",
       "      <td>0.479351</td>\n",
       "      <td>1.415174</td>\n",
       "    </tr>\n",
       "    <tr>\n",
       "      <td>look</td>\n",
       "      <td>0.430407</td>\n",
       "      <td>1.312581</td>\n",
       "    </tr>\n",
       "    <tr>\n",
       "      <td>little</td>\n",
       "      <td>0.427552</td>\n",
       "      <td>1.324592</td>\n",
       "    </tr>\n",
       "    <tr>\n",
       "      <td>told</td>\n",
       "      <td>0.427552</td>\n",
       "      <td>1.285457</td>\n",
       "    </tr>\n",
       "    <tr>\n",
       "      <td>left</td>\n",
       "      <td>0.414704</td>\n",
       "      <td>1.241718</td>\n",
       "    </tr>\n",
       "    <tr>\n",
       "      <td>home</td>\n",
       "      <td>0.406138</td>\n",
       "      <td>1.139325</td>\n",
       "    </tr>\n",
       "    <tr>\n",
       "      <td>life</td>\n",
       "      <td>0.395840</td>\n",
       "      <td>1.028826</td>\n",
       "    </tr>\n",
       "    <tr>\n",
       "      <td>nt</td>\n",
       "      <td>0.395636</td>\n",
       "      <td>1.115004</td>\n",
       "    </tr>\n",
       "  </tbody>\n",
       "</table>\n",
       "</div>"
      ],
      "text/plain": [
       "subredd         0         1\n",
       "door     0.750076  2.197878\n",
       "eyes     0.747221  2.111801\n",
       "room     0.693382  1.936343\n",
       "man      0.646885  1.511160\n",
       "night    0.626491  1.608047\n",
       "day      0.575201  1.459614\n",
       "house    0.551443  1.490241\n",
       "face     0.537779  1.460514\n",
       "head     0.508922  1.493444\n",
       "felt     0.504640  1.582524\n",
       "people   0.501377  1.394355\n",
       "heard    0.482818  1.314483\n",
       "thing    0.479351  1.415174\n",
       "look     0.430407  1.312581\n",
       "little   0.427552  1.324592\n",
       "told     0.427552  1.285457\n",
       "left     0.414704  1.241718\n",
       "home     0.406138  1.139325\n",
       "life     0.395840  1.028826\n",
       "nt       0.395636  1.115004"
      ]
     },
     "execution_count": 152,
     "metadata": {},
     "output_type": "execute_result"
    }
   ],
   "source": [
    "text_df.groupby('subredd').mean().T.sort_values(0, ascending=False).head(20)"
   ]
  },
  {
   "cell_type": "code",
   "execution_count": 153,
   "metadata": {},
   "outputs": [],
   "source": [
    "top_words_creepypasta = text_df.groupby('subredd').mean().T.sort_values(0, ascending=False).head(10)\n",
    "\n",
    "top_words_nosleep = text_df.groupby('subredd').mean().T.sort_values(1, ascending=False).head(10)"
   ]
  },
  {
   "cell_type": "code",
   "execution_count": 154,
   "metadata": {},
   "outputs": [
    {
     "data": {
      "text/plain": [
       "Text(0.5, 1.0, 'creepypasta Top 10 Words')"
      ]
     },
     "execution_count": 154,
     "metadata": {},
     "output_type": "execute_result"
    },
    {
     "data": {
      "image/png": "[encoded data removed]",
      "text/plain": [
       "<Figure size 720x720 with 1 Axes>"
      ]
     },
     "metadata": {
      "image/png": {
       "height": 602,
       "width": 606
      },
      "needs_background": "light"
     },
     "output_type": "display_data"
    }
   ],
   "source": [
    "top_words_creepypasta.plot(kind='barh', figsize = (10,10), color = ['#FF4343', 'black'])\n",
    "plt.title('creepypasta Top 10 Words', fontsize = 30)"
   ]
  },
  {
   "cell_type": "code",
   "execution_count": 155,
   "metadata": {},
   "outputs": [
    {
     "data": {
      "image/png": "[encoded data removed]",
      "text/plain": [
       "<Figure size 720x720 with 1 Axes>"
      ]
     },
     "metadata": {
      "image/png": {
       "height": 602,
       "width": 606
      },
      "needs_background": "light"
     },
     "output_type": "display_data"
    }
   ],
   "source": [
    "top_words_nosleep.plot(kind='barh', figsize = (10,10), color = ['#FF4343', 'black'])\n",
    "plt.title('nosleep Top 10 Words', fontsize = 30);"
   ]
  },
  {
   "cell_type": "code",
   "execution_count": 156,
   "metadata": {},
   "outputs": [],
   "source": [
    "top_words_creepypasta_list = list(text_df.groupby('subredd').\n",
    "     mean().T.sort_values(0, ascending=False).head(20).index)\n",
    "\n",
    "top_words_nosleep_list = list(text_df.groupby('subredd').\n",
    "     mean().T.sort_values(1, ascending=False).head(20).index)"
   ]
  },
  {
   "cell_type": "code",
   "execution_count": 157,
   "metadata": {},
   "outputs": [],
   "source": [
    "top_words_overlap = [scary for scary in top_words_creepypasta_list if scary in top_words_nosleep_list]\n"
   ]
  },
  {
   "cell_type": "code",
   "execution_count": 158,
   "metadata": {},
   "outputs": [
    {
     "data": {
      "text/plain": [
       "['door',\n",
       " 'eyes',\n",
       " 'room',\n",
       " 'man',\n",
       " 'night',\n",
       " 'day',\n",
       " 'house',\n",
       " 'face',\n",
       " 'head',\n",
       " 'felt',\n",
       " 'people',\n",
       " 'heard',\n",
       " 'thing',\n",
       " 'look',\n",
       " 'little',\n",
       " 'told',\n",
       " 'left']"
      ]
     },
     "execution_count": 158,
     "metadata": {},
     "output_type": "execute_result"
    }
   ],
   "source": [
    "top_words_overlap"
   ]
  },
  {
   "cell_type": "code",
   "execution_count": null,
   "metadata": {},
   "outputs": [],
   "source": [
    "top_words_nosleep"
   ]
  },
  {
   "cell_type": "code",
   "execution_count": 170,
   "metadata": {},
   "outputs": [
    {
     "data": {
      "text/plain": [
       "<matplotlib.legend.Legend at 0x1a3515c050>"
      ]
     },
     "execution_count": 170,
     "metadata": {},
     "output_type": "execute_result"
    },
    {
     "data": {
      "image/png": "[encoded data removed]",
      "text/plain": [
       "<Figure size 2160x1080 with 1 Axes>"
      ]
     },
     "metadata": {
      "image/png": {
       "height": 891,
       "width": 1766
      },
      "needs_background": "light"
     },
     "output_type": "display_data"
    }
   ],
   "source": [
    "fig, ax = plt.subplots()\n",
    "fig.set_figheight(15)\n",
    "fig.set_figwidth(30)\n",
    "rects1 = ax.bar(top_words_nosleep[1].index, top_words_nosleep[1],color='black')\n",
    "rects2 = ax.bar(top_words_creepypasta[0].index, top_words_creepypasta[0], color='#FF4343')\n",
    "ax.set_ylabel('Scores', fontsize = 35)\n",
    "ax.set_title('Stronger Overlapping Words by Subreddit', fontsize = 35)\n",
    "ax.tick_params(labelsize=25)\n",
    "ax.legend((rects1[0], rects2[0]), ('nosleep', 'creepypasta'), fontsize =20)"
   ]
  },
  {
   "cell_type": "code",
   "execution_count": null,
   "metadata": {},
   "outputs": [],
   "source": []
  }
 ],
 "metadata": {
  "kernelspec": {
   "display_name": "Python 3",
   "language": "python",
   "name": "python3"
  },
  "language_info": {
   "codemirror_mode": {
    "name": "ipython",
    "version": 3
   },
   "file_extension": ".py",
   "mimetype": "text/x-python",
   "name": "python",
   "nbconvert_exporter": "python",
   "pygments_lexer": "ipython3",
   "version": "3.7.4"
  }
 },
 "nbformat": 4,
 "nbformat_minor": 2
}
